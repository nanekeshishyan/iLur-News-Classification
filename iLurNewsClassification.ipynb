{
  "nbformat": 4,
  "nbformat_minor": 0,
  "metadata": {
    "colab": {
      "provenance": [],
      "authorship_tag": "ABX9TyPD35e+SXqsC6DErbRTHLLw",
      "include_colab_link": true
    },
    "kernelspec": {
      "name": "python3",
      "display_name": "Python 3"
    },
    "language_info": {
      "name": "python"
    }
  },
  "cells": [
    {
      "cell_type": "markdown",
      "metadata": {
        "id": "view-in-github",
        "colab_type": "text"
      },
      "source": [
        "<a href=\"https://colab.research.google.com/github/nanekeshishyan/iLur-News-Classification/blob/main/iLurNewsClassification.ipynb\" target=\"_parent\"><img src=\"https://colab.research.google.com/assets/colab-badge.svg\" alt=\"Open In Colab\"/></a>"
      ]
    },
    {
      "cell_type": "code",
      "execution_count": null,
      "metadata": {
        "id": "dBynPxEOCDds"
      },
      "outputs": [],
      "source": [
        "!pip install pandas scikit-learn\n",
        "import nltk\n",
        "nltk.download('punkt')\n",
        "from nltk.tokenize import word_tokenize\n",
        "import pandas as pd\n",
        "from sklearn.model_selection import train_test_split\n",
        "from sklearn.feature_extraction.text import TfidfVectorizer\n",
        "from sklearn.svm import LinearSVC\n",
        "from sklearn.metrics import accuracy_score, classification_report\n",
        "import string\n",
        "\n",
        "train_data = pd.read_csv('/kaggle/input/ilur-news-classification-2023/train.csv')\n",
        "test_data = pd.read_csv('/kaggle/input/ilur-news-classification-2023/test_set.csv')\n",
        "\n",
        "stop_words = [  'այդ',    'այլ',    'այն',    'այս',    'դու',    'դուք',    'եմ',    'են',    'ենք',    'ես',    'է',    'էի',    'էին',    'էինք',    'էիր',    'էիք',    'էր',    'ըստ',    'թե',    'ի',    'ին',    'իսկ',    'իր',    'կամ',    'համար',    'հետ',    'հետո',    'մենք',    'մեջ',    'մի',    'ն',    'նա',    'նաև',    'նրա',    'նրանք',    'որ',    'որը',    'որոնք',    'որպես',    'ու',    'ում',    'պիտի',    'վրա',    'և' , 'նույնը', 'այստեղ', 'հիմա', 'ավելի լավ', 'կրկին', 'ինչ', 'լավ', 'նա', 'չի կարող', 'դա', 'հիմա', 'այստեղ', 'դեռ', 'կարող է', 'կար', 'ոչ', 'որովհետև', 'և', 'դու', 'կամ', 'կար', 'եթե', 'նրան', 'առաջ', 'արդեն', 'քան', 'կարող է', 'վրա', 'րան', 'բոլորը', 'քանի որ', 'ինչ', 'ինչ-որ բան', 'սա', 'նույնիսկ', 'մենք', 'այն', 'նա', 'ըստ', 'մեզ', 'բացարձակապես', 'կային', 'այն', 'նրա', 'իրեն', ' երբեմն', 'հետ', 'ես', 'դա', 'երկու', 'սրանք', 'ով', 'մեջ', 'համար' , 'միջևում', 'դու', 'կարծես', 'իմը', 'այդպես', 'տակ' ,'պետք է', 'միայն', 'երբեք', 'բայց', 'դեպի', 'ինչի համար', 'համար', 'մինչև', 'վերջապես', 'վերջում' , 'այստեղ', 'առանց', 'որտեղ', 'նրանք', 'երեք', 'նրանից', 'ոչինչ', 'ինքս', 'լավ', 'ավելի', 'շատ', 'գրեթե', 'լինիր', 'ուրիշ', 'այնտեղ', 'մոտ', 'սակայն', 'այո', 'այդպիսին', 'իհարկե', 'առնվազն', 'ավելի շատ', 'նույնպես', 'հանկարծ', 'երբ', 'կա', 'հետո', 'միայն', 'մի քիչ', 'միջոցով', 'ինչու', 'մեկ անգամ', 'իմ', 'արդյո՞ք', 'մեկ', 'հետ', 'ներս', 'միշտ']\n",
        "def preprocess_text(text):\n",
        "    # удаление знаков препинания\n",
        "    translator = str.maketrans('', '', string.punctuation)\n",
        "    text = text.translate(translator)\n",
        "    # исключение стоп-слов\n",
        "    text = ' '.join(filter(lambda w: w not in stop_words, text.split()))\n",
        "    return text\n",
        "\n",
        "\n",
        "train_data['text'] = train_data['text'].apply(preprocess_text)\n",
        "test_data['text'] = test_data['text'].apply(preprocess_text)\n",
        "\n",
        "\n",
        "X_train, X_val, y_train, y_val = train_test_split(train_data['text'], train_data['category'], test_size=0.2, random_state=42, stratify=train_data['category'])\n",
        "\n",
        "\n",
        "vectorizer = TfidfVectorizer(min_df=5, max_df=0.5, ngram_range=(1, 2), sublinear_tf=True)\n",
        "X_train = vectorizer.fit_transform(X_train)\n",
        "X_val = vectorizer.transform(X_val)\n",
        "X_test = vectorizer.transform(test_data['text'])\n",
        "\n",
        "\n",
        "\n",
        "classificator = LinearSVC(penalty = 'l2', C = 1)\n",
        "classificator.fit(X_train, y_train)\n",
        "\n",
        "\n",
        "\n",
        "y_train_pred = classificator.predict(X_train)\n",
        "train_accuracy = accuracy_score(y_train, y_train_pred)\n",
        "print(\"train Accuracy:\", train_accuracy)\n",
        "y_val_pred = classificator.predict(X_val)\n",
        "y_test_pred = classificator.predict(X_test)\n",
        "\n",
        "\n",
        "\n",
        "accuracy = accuracy_score(y_val, y_val_pred)\n",
        "print(\"Accuracy:\", accuracy)\n",
        "report = classification_report(y_val, y_val_pred)\n",
        "print(report)\n",
        "\n",
        "\n",
        "\n",
        "dataFrame = pd.DataFrame({'id': test_data['id'], 'category': y_test_pred})\n",
        "dataFrame.to_csv('/kaggle/working/submission.csv', index=False)"
      ]
    }
  ]
}